{
 "cells": [
  {
   "cell_type": "code",
   "execution_count": 2,
   "metadata": {
    "collapsed": true,
    "pycharm": {
     "is_executing": false
    }
   },
   "outputs": [],
   "source": [
    "# ENPM 661 - Planning for Autonomous Robots\n",
    "# Project 3 - Implementing A* Algorithm for Turtlebot 3\n",
    "# Team - Nidhi Bhojak           , UID - 116787529\n",
    "#        Kulbir Singh Ahluwalia , UID - 116836050\n",
    "import numpy as np\n",
    "import math\n",
    "import matplotlib.pyplot as plt\n",
    "import cv2\n",
    "from time import process_time\n",
    "\n",
    "\n",
    "def cartesian_to_image_coord(adjust_coord):\n",
    "    return [adjust_coord[0], 200 - adjust_coord[1]]\n",
    "\n",
    "def find_line_slope_and_intercept(test_point_coord, line_point_1, line_point_2):\n",
    "    slope = (line_point_2[1] - line_point_1[1]) / (line_point_2[0] - line_point_1[0])\n",
    "    intercept = line_point_1[1] - (slope * line_point_1[0])\n",
    "    # print(slope,intercept)\n",
    "    return slope, intercept\n",
    "\n",
    "# function returns false when the point is outside the circle\n",
    "def circular_obstacle(clearance, radius_rigid_robot, test_point_coord):\n",
    "    circle_center = (225, 150)\n",
    "    test_point_coord_x = test_point_coord[0]\n",
    "    test_point_coord_y = test_point_coord[1]\n",
    "    augment_distance = radius_rigid_robot + clearance\n",
    "\n",
    "    distance_from_center = ((test_point_coord_x - circle_center[0]) ** 2 + (\n",
    "                test_point_coord_y - circle_center[1]) ** 2) ** 0.5\n",
    "\n",
    "    if distance_from_center > (25 + augment_distance):\n",
    "        return False\n",
    "    else:\n",
    "        return True\n",
    "\n",
    "# function returns false when the point is outside the ellipse\n",
    "def ellipsoid_obstacle(clearance, radius_rigid_robot, test_point_coord):\n",
    "    ellipsoid_center = (150, 100)\n",
    "    test_point_coord_x = test_point_coord[0]\n",
    "    test_point_coord_y = test_point_coord[1]\n",
    "    augment_distance = radius_rigid_robot + clearance\n",
    "    semi_major_axis = 40\n",
    "    semi_minor_axis = 20\n",
    "\n",
    "    distance_from_center = ((test_point_coord_x - ellipsoid_center[0]) ** 2) / (\n",
    "                (semi_major_axis + augment_distance) ** 2) + (test_point_coord_y - ellipsoid_center[1]) ** 2 / (\n",
    "                                       (semi_minor_axis + augment_distance) ** 2)\n",
    "\n",
    "    if distance_from_center > 1:\n",
    "        return False\n",
    "    else:\n",
    "        return True\n",
    "\n",
    "def rectangle_obstacle(clearance, radius_rigid_robot, test_point_coord):\n",
    "    circle_center = (225, 150)\n",
    "    augment_distance = radius_rigid_robot + clearance\n",
    "\n",
    "    rectangle_point_1 = [100, 38.66025]\n",
    "    rectangle_point_2 = [35.0481, 76.1603]\n",
    "    rectangle_point_3 = [30.0481, 67.5]\n",
    "    rectangle_point_4 = [95, 30]\n",
    "\n",
    "    # We set the flags by testing for image point inside the rectangle\n",
    "    # Because the sign for the half plane is unique for every line, we test it by using image point that is confirmed to be inside the rectangle\n",
    "    edge1_m_c = find_line_slope_and_intercept(test_point_coord, rectangle_point_1, rectangle_point_2)\n",
    "    line1 = test_point_coord[1] - (edge1_m_c[0] * test_point_coord[0]) - (\n",
    "                edge1_m_c[1] + (augment_distance * 2 / (3 ** 0.5)))\n",
    "    # print(line1)\n",
    "    if line1 >= 0:\n",
    "        flag1 = False\n",
    "        # print(\"False\")\n",
    "    else:\n",
    "        flag1 = True\n",
    "        # print(\"True\")\n",
    "\n",
    "    edge2_m_c = find_line_slope_and_intercept(test_point_coord, rectangle_point_2, rectangle_point_3)\n",
    "    line2 = test_point_coord[1] - (edge2_m_c[0] * test_point_coord[0]) - (edge2_m_c[1] + (augment_distance * 2))\n",
    "    # print(line2)\n",
    "    if line2 >= 0:\n",
    "        flag2 = False\n",
    "        # print(\"False\")\n",
    "    else:\n",
    "        flag2 = True\n",
    "        # print(\"True\")\n",
    "\n",
    "    edge3_m_c = find_line_slope_and_intercept(test_point_coord, rectangle_point_3, rectangle_point_4)\n",
    "    line3 = test_point_coord[1] - (edge3_m_c[0] * test_point_coord[0]) - (\n",
    "                edge3_m_c[1] - (augment_distance * 2 / (3 ** 0.5)))\n",
    "    # print(line3)\n",
    "    if line3 >= 0:\n",
    "        flag3 = True\n",
    "        # print(\"True\")\n",
    "    else:\n",
    "        flag3 = False\n",
    "        # print(\"False\")\n",
    "\n",
    "    edge4_m_c = find_line_slope_and_intercept(test_point_coord, rectangle_point_4, rectangle_point_1)\n",
    "    line4 = test_point_coord[1] - (edge4_m_c[0] * test_point_coord[0]) - (edge4_m_c[1] - (augment_distance * 2))\n",
    "    # print(line4)\n",
    "    if line4 >= 0:\n",
    "        flag4 = True\n",
    "        # print(\"True\")\n",
    "    else:\n",
    "        flag4 = False\n",
    "        # print(\"False\")\n",
    "\n",
    "    if flag1 and flag2 and flag3 and flag4:\n",
    "        return True\n",
    "    else:\n",
    "        return False\n",
    "\n",
    "def rhombus_obstacle(clearance, radius_rigid_robot, test_point_coord):\n",
    "    augment_distance = radius_rigid_robot + clearance\n",
    "\n",
    "    rhombus_point_1 = [250, 25]\n",
    "    rhombus_point_2 = [225, 40]\n",
    "    rhombus_point_3 = [200, 25]\n",
    "    rhombus_point_4 = [225, 10]\n",
    "\n",
    "    # We set the flags by testing for image point inside the rectangle\n",
    "    # Because the sign for the half plane is unique for every line, we test it by using image point that is confirmed to be inside the rectangle\n",
    "    edge1_m_c = find_line_slope_and_intercept(test_point_coord, rhombus_point_1, rhombus_point_2)\n",
    "    line1 = test_point_coord[1] - (edge1_m_c[0] * test_point_coord[0]) - (edge1_m_c[1] + (augment_distance / 0.8575))\n",
    "    # print(line1)\n",
    "    if line1 >= 0:\n",
    "        flag1 = False\n",
    "    else:\n",
    "        flag1 = True\n",
    "\n",
    "    edge2_m_c = find_line_slope_and_intercept(test_point_coord, rhombus_point_2, rhombus_point_3)\n",
    "    line2 = test_point_coord[1] - (edge2_m_c[0] * test_point_coord[0]) - (edge2_m_c[1] + (augment_distance / 0.8575))\n",
    "    # print(line2)\n",
    "    if line2 >= 0:\n",
    "        flag2 = False\n",
    "    else:\n",
    "        flag2 = True\n",
    "\n",
    "    edge3_m_c = find_line_slope_and_intercept(test_point_coord, rhombus_point_3, rhombus_point_4)\n",
    "    line3 = test_point_coord[1] - (edge3_m_c[0] * test_point_coord[0]) - (edge3_m_c[1] - (augment_distance / 0.8575))\n",
    "    # print(line3)\n",
    "    if line3 >= 0:\n",
    "        flag3 = True\n",
    "    else:\n",
    "        flag3 = False\n",
    "\n",
    "    edge4_m_c = find_line_slope_and_intercept(test_point_coord, rhombus_point_4, rhombus_point_1)\n",
    "    line4 = test_point_coord[1] - (edge4_m_c[0] * test_point_coord[0]) - (edge4_m_c[1] - (augment_distance / 0.8575))\n",
    "    # print(line4)\n",
    "    if line4 >= 0:\n",
    "        flag4 = True\n",
    "    else:\n",
    "        flag4 = False\n",
    "\n",
    "    if flag1 and flag2 and flag3 and flag4:\n",
    "        return True\n",
    "    else:\n",
    "        return False\n",
    "\n",
    "def nonconvex_obstacle_right_half(clearance, radius_rigid_robot, test_point_coord):\n",
    "    augment_distance = radius_rigid_robot + clearance\n",
    "\n",
    "    nonconvex_point_1 = [100, 150]\n",
    "    nonconvex_point_2 = [75, 185]\n",
    "    nonconvex_point_3 = [60, 185]\n",
    "    nonconvex_point_4 = [50, 150]\n",
    "    nonconvex_point_5 = [75, 120]\n",
    "\n",
    "    # We set the flags by testing for image point inside the rectangle\n",
    "    # Because the sign for the half plane is unique for every line, we test it by using image point that is confirmed to be inside the nonconvex_obstacle\n",
    "    edge1_m_c = find_line_slope_and_intercept(test_point_coord, nonconvex_point_1, nonconvex_point_2)\n",
    "    line1 = test_point_coord[1] - (edge1_m_c[0] * test_point_coord[0]) - (edge1_m_c[1] + (augment_distance / 0.58124))\n",
    "    # print(line1)\n",
    "    if line1 >= 0:\n",
    "        flag1 = False\n",
    "        # print(\"False\")\n",
    "    else:\n",
    "        flag1 = True\n",
    "        # print(\"True\")\n",
    "\n",
    "    edge2_m_c = find_line_slope_and_intercept(test_point_coord, nonconvex_point_2, nonconvex_point_3)\n",
    "    line2 = test_point_coord[1] - (edge2_m_c[0] * test_point_coord[0]) - (edge2_m_c[1] + (augment_distance / 1))\n",
    "    # print(line2)\n",
    "    if line2 >= 0:\n",
    "        flag2 = False\n",
    "        # print(\"False\")\n",
    "    else:\n",
    "        flag2 = True\n",
    "        # print(\"True\")\n",
    "\n",
    "    # edge 3 is not augmented with clearance+robot_radius since its inside the nonconvex polygon\n",
    "    edge3_m_c = find_line_slope_and_intercept(test_point_coord, nonconvex_point_3, nonconvex_point_4)\n",
    "    line3 = test_point_coord[1] - (edge3_m_c[0] * test_point_coord[0]) - (edge3_m_c[1] + (augment_distance / 0.27472))\n",
    "    # print(line3)\n",
    "    if line3 >= 0:\n",
    "        flag3 = False\n",
    "        # print(\"False\")\n",
    "    else:\n",
    "        flag3 = True\n",
    "        # print(\"True\")\n",
    "\n",
    "    edge4_m_c = find_line_slope_and_intercept(test_point_coord, nonconvex_point_4, nonconvex_point_5)\n",
    "    line4 = test_point_coord[1] - (edge4_m_c[0] * test_point_coord[0]) - (edge4_m_c[1] - (augment_distance / 0.64018))\n",
    "    # print(line4)\n",
    "    if line4 >= 0:\n",
    "        flag4 = True\n",
    "        # print(\"True\")\n",
    "    else:\n",
    "        flag4 = False\n",
    "        # print(\"False\")\n",
    "\n",
    "    edge5_m_c = find_line_slope_and_intercept(test_point_coord, nonconvex_point_5, nonconvex_point_1)\n",
    "    line5 = test_point_coord[1] - (edge5_m_c[0] * test_point_coord[0]) - (edge5_m_c[1] - (augment_distance / 0.640184))\n",
    "    # print(line4)\n",
    "    if line5 >= 0:\n",
    "        flag5 = True\n",
    "        # print(\"True\")\n",
    "    else:\n",
    "        flag5 = False\n",
    "        # print(\"False\")\n",
    "\n",
    "    if flag1 and flag2 and flag3 and flag4 and flag5:\n",
    "        return True\n",
    "    else:\n",
    "        return False\n",
    "\n",
    "def nonconvex_obstacle_left_half(clearance, radius_rigid_robot, test_point_coord):\n",
    "    augment_distance = radius_rigid_robot + clearance\n",
    "\n",
    "    nonconvex_point_1 = [50, 150]\n",
    "    nonconvex_point_2 = [60, 185]\n",
    "    nonconvex_point_3 = [25, 185]\n",
    "    nonconvex_point_4 = [20, 120]\n",
    "\n",
    "    # We set the flags by testing for image point inside the rectangle\n",
    "    # Because the sign for the half plane is unique for every line, we test it by using image point that is confirmed to be inside the nonconvex_obstacle\n",
    "    edge1_m_c = find_line_slope_and_intercept(test_point_coord, nonconvex_point_1, nonconvex_point_2)\n",
    "    line1 = test_point_coord[1] - (edge1_m_c[0] * test_point_coord[0]) - (edge1_m_c[1] - (augment_distance / 0.27472))\n",
    "    # print(line1)\n",
    "    if line1 >= 0:\n",
    "        flag1 = True\n",
    "        # print(\"True\")\n",
    "    else:\n",
    "        flag1 = False\n",
    "        # print(\"False\")\n",
    "\n",
    "    edge2_m_c = find_line_slope_and_intercept(test_point_coord, nonconvex_point_2, nonconvex_point_3)\n",
    "    line2 = test_point_coord[1] - (edge2_m_c[0] * test_point_coord[0]) - (edge2_m_c[1] + (augment_distance / 1))\n",
    "    # print(line2)\n",
    "    if line2 >= 0:\n",
    "        flag2 = False\n",
    "        # print(\"False\")\n",
    "    else:\n",
    "        flag2 = True\n",
    "        # print(\"True\")\n",
    "\n",
    "    # edge 3 is not augmented with clearance+robot_radius since its inside the nonconvex polygon\n",
    "    edge3_m_c = find_line_slope_and_intercept(test_point_coord, nonconvex_point_3, nonconvex_point_4)\n",
    "    line3 = test_point_coord[1] - (edge3_m_c[0] * test_point_coord[0]) - (edge3_m_c[1] + (augment_distance / 0.0767))\n",
    "    # print(line3)\n",
    "    if line3 >= 0:\n",
    "        flag3 = False\n",
    "        # print(\"False\")\n",
    "    else:\n",
    "        flag3 = True\n",
    "        # print(\"True\")\n",
    "\n",
    "    edge4_m_c = find_line_slope_and_intercept(test_point_coord, nonconvex_point_4, nonconvex_point_1)\n",
    "    line4 = test_point_coord[1] - (edge4_m_c[0] * test_point_coord[0]) - (edge4_m_c[1] - (augment_distance / 0.7071))\n",
    "    # print(line4)\n",
    "    if line4 >= 0:\n",
    "        flag4 = True\n",
    "        # print(\"True\")\n",
    "    else:\n",
    "        flag4 = False\n",
    "        # print(\"False\")\n",
    "\n",
    "    if flag1 and flag2 and flag3 and flag4:\n",
    "        return True\n",
    "    else:\n",
    "        return False\n",
    "\n",
    "def boundary_obstacle(clearance, radius_rigid_robot, test_point_coord):\n",
    "    augment_distance = radius_rigid_robot + clearance\n",
    "    x = test_point_coord[0]\n",
    "    y = test_point_coord[1]\n",
    "\n",
    "    if 0 <= x < augment_distance:\n",
    "        return True\n",
    "    elif (299 - augment_distance) < x <= 299:\n",
    "        return True\n",
    "    elif 0 <= y < augment_distance:\n",
    "        return True\n",
    "    elif (199 - augment_distance) < y <= 199:\n",
    "        return True\n",
    "    else:\n",
    "        return False\n",
    "\n",
    "class GraphNode:\n",
    "    def __init__(self, point):\n",
    "        self.position = point\n",
    "        self.cost = math.inf\n",
    "        self.parent = None\n",
    "\n",
    "# THe following code outputs True if the point is inside the obstacle or False if outside\n",
    "def test_point_obstacle_check(clearance, radius_rigid_robot, test_point_coord):\n",
    "    test_point_coord = cartesian_to_image_coord(test_point_coord)\n",
    "    if circular_obstacle(clearance, radius_rigid_robot, test_point_coord):\n",
    "        return True\n",
    "    elif ellipsoid_obstacle(clearance, radius_rigid_robot, test_point_coord):\n",
    "        return True\n",
    "    elif rectangle_obstacle(clearance, radius_rigid_robot, test_point_coord):\n",
    "        return True\n",
    "    elif rhombus_obstacle(clearance, radius_rigid_robot, test_point_coord):\n",
    "        return True\n",
    "    elif nonconvex_obstacle_right_half(clearance, radius_rigid_robot, test_point_coord):\n",
    "        return True\n",
    "    elif nonconvex_obstacle_left_half(clearance, radius_rigid_robot, test_point_coord):\n",
    "        return True\n",
    "    elif boundary_obstacle(clearance, radius_rigid_robot, test_point_coord):\n",
    "        return True\n",
    "    else:\n",
    "        return False\n",
    "\n"
   ]
  },
  {
   "cell_type": "code",
   "execution_count": 3,
   "outputs": [
    {
     "name": "stdout",
     "text": [
      "True\n"
     ],
     "output_type": "stream"
    }
   ],
   "source": [
    "# for testing\n",
    "start_node_x = 5\n",
    "start_node_y = 10\n",
    "goal_node_x = 20\n",
    "goal_node_y = 30\n",
    "clearance = 2\n",
    "radius_rigid_robot = 2\n",
    "\n",
    "print(test_point_obstacle_check(clearance, radius_rigid_robot,[230,40]))\n",
    "\n"
   ],
   "metadata": {
    "collapsed": false,
    "pycharm": {
     "name": "#%%\n",
     "is_executing": false
    }
   }
  },
  {
   "cell_type": "code",
   "execution_count": 7,
   "outputs": [
    {
     "name": "stdout",
     "text": [
      "False\n",
      "[0.4, 1.6]\n"
     ],
     "output_type": "stream"
    }
   ],
   "source": [
    "print(test_point_obstacle_check(clearance, radius_rigid_robot,[5,5]))\n",
    "rounded_till_first_decimal = np.around([0.37, 1.64], decimals=1)\n",
    "print(list(rounded_till_first_decimal))\n",
    "\n"
   ],
   "metadata": {
    "collapsed": false,
    "pycharm": {
     "name": "#%%\n",
     "is_executing": false
    }
   }
  },
  {
   "cell_type": "code",
   "execution_count": 5,
   "outputs": [],
   "source": [
    "\n",
    "\n",
    "\n",
    "def round_off_till_threshold(number):\n",
    "    number_double = round((number * 2))\n",
    "    return number_double/2\n",
    "\n"
   ],
   "metadata": {
    "collapsed": false,
    "pycharm": {
     "name": "#%%\n",
     "is_executing": false
    }
   }
  },
  {
   "cell_type": "code",
   "execution_count": 52,
   "outputs": [
    {
     "data": {
      "text/plain": "2.5"
     },
     "metadata": {},
     "output_type": "execute_result",
     "execution_count": 52
    }
   ],
   "source": [
    "round_off(2.4)\n"
   ],
   "metadata": {
    "collapsed": false,
    "pycharm": {
     "name": "#%%\n",
     "is_executing": false
    }
   }
  },
  {
   "cell_type": "code",
   "execution_count": 8,
   "outputs": [],
   "source": [
    "def get_minimum_element(queue):\n",
    "    min_index = 0\n",
    "    for index in range(len(queue)):\n",
    "        if queue[index].cost < queue[min_index].cost:\n",
    "            min_index = index\n",
    "    return queue.pop(min_index)\n",
    "\n"
   ],
   "metadata": {
    "collapsed": false,
    "pycharm": {
     "name": "#%%\n",
     "is_executing": false
    }
   }
  },
  {
   "cell_type": "code",
   "execution_count": 9,
   "outputs": [
    {
     "ename": "AttributeError",
     "evalue": "'int' object has no attribute 'cost'",
     "traceback": [
      "\u001b[0;31m---------------------------------------------------------------------------\u001b[0m",
      "\u001b[0;31mAttributeError\u001b[0m                            Traceback (most recent call last)",
      "\u001b[0;32m<ipython-input-9-bcd9abeb1cca>\u001b[0m in \u001b[0;36m<module>\u001b[0;34m\u001b[0m\n\u001b[0;32m----> 1\u001b[0;31m \u001b[0mget_minimum_element\u001b[0m\u001b[0;34m(\u001b[0m\u001b[0;34m[\u001b[0m\u001b[0;36m1\u001b[0m\u001b[0;34m,\u001b[0m\u001b[0;36m2\u001b[0m\u001b[0;34m,\u001b[0m\u001b[0;36m3\u001b[0m\u001b[0;34m,\u001b[0m\u001b[0;36m4\u001b[0m\u001b[0;34m,\u001b[0m\u001b[0;36m5\u001b[0m\u001b[0;34m,\u001b[0m\u001b[0;36m6\u001b[0m\u001b[0;34m,\u001b[0m\u001b[0;36m7\u001b[0m\u001b[0;34m,\u001b[0m\u001b[0;36m8\u001b[0m\u001b[0;34m]\u001b[0m\u001b[0;34m)\u001b[0m\u001b[0;34m\u001b[0m\u001b[0;34m\u001b[0m\u001b[0m\n\u001b[0m\u001b[1;32m      2\u001b[0m \u001b[0;34m\u001b[0m\u001b[0m\n\u001b[1;32m      3\u001b[0m \u001b[0;34m\u001b[0m\u001b[0m\n",
      "\u001b[0;32m<ipython-input-8-0d79a76e31c4>\u001b[0m in \u001b[0;36mget_minimum_element\u001b[0;34m(queue)\u001b[0m\n\u001b[1;32m      2\u001b[0m     \u001b[0mmin_index\u001b[0m \u001b[0;34m=\u001b[0m \u001b[0;36m0\u001b[0m\u001b[0;34m\u001b[0m\u001b[0;34m\u001b[0m\u001b[0m\n\u001b[1;32m      3\u001b[0m     \u001b[0;32mfor\u001b[0m \u001b[0mindex\u001b[0m \u001b[0;32min\u001b[0m \u001b[0mrange\u001b[0m\u001b[0;34m(\u001b[0m\u001b[0mlen\u001b[0m\u001b[0;34m(\u001b[0m\u001b[0mqueue\u001b[0m\u001b[0;34m)\u001b[0m\u001b[0;34m)\u001b[0m\u001b[0;34m:\u001b[0m\u001b[0;34m\u001b[0m\u001b[0;34m\u001b[0m\u001b[0m\n\u001b[0;32m----> 4\u001b[0;31m         \u001b[0;32mif\u001b[0m \u001b[0mqueue\u001b[0m\u001b[0;34m[\u001b[0m\u001b[0mindex\u001b[0m\u001b[0;34m]\u001b[0m\u001b[0;34m.\u001b[0m\u001b[0mcost\u001b[0m \u001b[0;34m<\u001b[0m \u001b[0mqueue\u001b[0m\u001b[0;34m[\u001b[0m\u001b[0mmin_index\u001b[0m\u001b[0;34m]\u001b[0m\u001b[0;34m.\u001b[0m\u001b[0mcost\u001b[0m\u001b[0;34m:\u001b[0m\u001b[0;34m\u001b[0m\u001b[0;34m\u001b[0m\u001b[0m\n\u001b[0m\u001b[1;32m      5\u001b[0m             \u001b[0mmin_index\u001b[0m \u001b[0;34m=\u001b[0m \u001b[0mindex\u001b[0m\u001b[0;34m\u001b[0m\u001b[0;34m\u001b[0m\u001b[0m\n\u001b[1;32m      6\u001b[0m     \u001b[0;32mreturn\u001b[0m \u001b[0mqueue\u001b[0m\u001b[0;34m.\u001b[0m\u001b[0mpop\u001b[0m\u001b[0;34m(\u001b[0m\u001b[0mmin_index\u001b[0m\u001b[0;34m)\u001b[0m\u001b[0;34m\u001b[0m\u001b[0;34m\u001b[0m\u001b[0m\n",
      "\u001b[0;31mAttributeError\u001b[0m: 'int' object has no attribute 'cost'"
     ],
     "output_type": "error"
    }
   ],
   "source": [
    "get_minimum_element([1,2,3,4,5,6,7,8])\n",
    "\n"
   ],
   "metadata": {
    "collapsed": false,
    "pycharm": {
     "name": "#%%\n",
     "is_executing": false
    }
   }
  },
  {
   "cell_type": "code",
   "execution_count": 3,
   "outputs": [],
   "source": [
    "import math\n",
    "def heu(node1, node2):\n",
    "  dist= math.sqrt( (node1[0] - node2[0])**2 + (node1[1] - node2[1])**2)\n",
    "  return dist\n",
    "\n"
   ],
   "metadata": {
    "collapsed": false,
    "pycharm": {
     "name": "#%%\n",
     "is_executing": false
    }
   }
  },
  {
   "cell_type": "code",
   "execution_count": 5,
   "outputs": [
    {
     "data": {
      "text/plain": "5.0"
     },
     "metadata": {},
     "output_type": "execute_result",
     "execution_count": 5
    }
   ],
   "source": [
    "heu([0,0],[3,4])\n",
    "\n"
   ],
   "metadata": {
    "collapsed": false,
    "pycharm": {
     "name": "#%%\n",
     "is_executing": false
    }
   }
  },
  {
   "cell_type": "code",
   "execution_count": 7,
   "outputs": [
    {
     "data": {
      "text/plain": "array([-2.,  3.])"
     },
     "metadata": {},
     "output_type": "execute_result",
     "execution_count": 7
    }
   ],
   "source": [
    "import numpy as np\n",
    "line1 = [2,3]\n",
    "line2 = [1,1]\n",
    "b = [5, 1]\n",
    "np.linalg.solve([line1,line2], b)\n"
   ],
   "metadata": {
    "collapsed": false,
    "pycharm": {
     "name": "#%%\n",
     "is_executing": false
    }
   }
  },
  {
   "cell_type": "code",
   "execution_count": 5,
   "outputs": [],
   "source": [
    "from sympy import symbols, Eq, solve\n",
    "y = symbols('y')\n",
    "eq1 = Eq(y**2 - 5*y + 6, 0)   #solutions are y=3, y=2\n",
    "\n"
   ],
   "metadata": {
    "collapsed": false,
    "pycharm": {
     "name": "#%%\n",
     "is_executing": false
    }
   }
  },
  {
   "cell_type": "code",
   "execution_count": 26,
   "outputs": [],
   "source": [
    "\n",
    "def find_line_slope_and_intercept(test_point_coord, line_point_1, line_point_2):\n",
    "    slope = (line_point_2[1] - line_point_1[1]) / (line_point_2[0] - line_point_1[0])\n",
    "    intercept = line_point_1[1] - (slope * line_point_1[0])\n",
    "    # print(slope,intercept)\n",
    "    return slope, intercept\n",
    "\n",
    "\n"
   ],
   "metadata": {
    "collapsed": false,
    "pycharm": {
     "name": "#%%\n",
     "is_executing": false
    }
   }
  },
  {
   "cell_type": "code",
   "execution_count": 22,
   "outputs": [
    {
     "name": "stdout",
     "text": [
      "[(-sqrt(3), 1), (sqrt(3), 1)]\n",
      "{x: -sqrt(3), y: 1}\n",
      "{x: sqrt(3), y: 1}\n",
      "x1 is  -sqrt(3)\n",
      "y1 is  1\n",
      "x2 is  sqrt(3)\n",
      "y2 is  1\n"
     ],
     "output_type": "stream"
    }
   ],
   "source": [
    "from sympy import solve, Poly, Eq, Function, exp\n",
    "from sympy.abc import x, y, z, a, b\n",
    "# f = Function('f')\n",
    "equation_1 = x**2 - 3\n",
    "equation_2 = y - 1\n",
    "# solution = solve([equation_1, equation_2], dict=True)\n",
    "solution2 = solve([equation_1, equation_2], (x,y))\n",
    "print(solution2)\n",
    "\n",
    "#print solutions as dictionaries\n",
    "print(solution[0])\n",
    "print(solution[1])\n",
    "\n",
    "# get the solutions from the dictionaries using the keys \"x\" and \"y\"\n",
    "print(\"x1 is \", solution[0][x])\n",
    "print(\"y1 is \", solution[0][y])\n",
    "\n",
    "print(\"x2 is \", solution[1][x])\n",
    "print(\"y2 is \", solution[1][y])"
   ],
   "metadata": {
    "collapsed": false,
    "pycharm": {
     "name": "#%%\n",
     "is_executing": false
    }
   }
  },
  {
   "cell_type": "code",
   "execution_count": 27,
   "outputs": [
    {
     "name": "stdout",
     "text": [
      "[(-sqrt(3), 1), (sqrt(3), 1)]\n"
     ],
     "output_type": "stream"
    }
   ],
   "source": [
    "from sympy import solve, Poly, Eq, Function, exp\n",
    "from sympy.abc import x, y, z, a, b\n",
    "equation_1 = x**2 - 3\n",
    "equation_2 = y - 1\n",
    "#the following equation will output solutions in the form of a list\n",
    "solution2 = solve([equation_1, equation_2], (x,y))\n",
    "print(solution2)\n"
   ],
   "metadata": {
    "collapsed": false,
    "pycharm": {
     "name": "#%%\n",
     "is_executing": false
    }
   }
  },
  {
   "cell_type": "code",
   "execution_count": 32,
   "outputs": [],
   "source": [
    "def circular_intersection_check(clearance, radius_rigid_robot, parent_coord, child_coord):\n",
    "    \n",
    "    augment_distance = radius_rigid_robot + clearance\n",
    "    \n",
    "    line_m_c = find_line_slope_and_intercept(None, child_coord, parent_coord)\n",
    "    line_equation = y - (line_m_c[0] * x) - (line_m_c[1])\n",
    "    print(line_equation)\n",
    "    \n",
    "    circle_center = (225, 150)\n",
    "    equation_1 = (x-225)**2 + (y-150)**2 - (25+augment_distance)**2\n",
    "    equation_2 = line_equation\n",
    "    #the following equation will output solutions in the form of a list\n",
    "    solution2 = solve([equation_1, equation_2], (x,y))\n",
    "    print(solution2)"
   ],
   "metadata": {
    "collapsed": false,
    "pycharm": {
     "name": "#%%\n",
     "is_executing": false
    }
   }
  },
  {
   "cell_type": "code",
   "execution_count": 33,
   "outputs": [
    {
     "name": "stdout",
     "text": [
      "y - 150.0\n",
      "[(198.000000000000, 150.000000000000), (252.000000000000, 150.000000000000)]\n"
     ],
     "output_type": "stream"
    }
   ],
   "source": [
    "circular_intersection_check(1,1,[200,150],[250,150])\n",
    "\n"
   ],
   "metadata": {
    "collapsed": false,
    "pycharm": {
     "name": "#%%\n",
     "is_executing": false
    }
   }
  },
  {
   "cell_type": "code",
   "execution_count": null,
   "outputs": [],
   "source": [
    "\n"
   ],
   "metadata": {
    "collapsed": false,
    "pycharm": {
     "name": "#%%\n"
    }
   }
  }
 ],
 "metadata": {
  "kernelspec": {
   "name": "pycharm-f89c087b",
   "language": "python",
   "display_name": "PyCharm (Implementing_Astar_on_Turtlebot3)"
  },
  "language_info": {
   "codemirror_mode": {
    "name": "ipython",
    "version": 2
   },
   "file_extension": ".py",
   "mimetype": "text/x-python",
   "name": "python",
   "nbconvert_exporter": "python",
   "pygments_lexer": "ipython2",
   "version": "2.7.6"
  },
  "pycharm": {
   "stem_cell": {
    "cell_type": "raw",
    "source": [],
    "metadata": {
     "collapsed": false
    }
   }
  }
 },
 "nbformat": 4,
 "nbformat_minor": 0
}